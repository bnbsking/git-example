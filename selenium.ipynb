{
 "cells": [
  {
   "cell_type": "markdown",
   "metadata": {},
   "source": [
    "<h6> Automatic browser <h6>\n",
    "<ul>\n",
    "  <li> <a href='https://www.whatismybrowser.com/detect/what-version-of-chrome-do-i-have'> Check current Chrome version </a> </li>\n",
    "  <li> <a href='https://chromedriver.chromium.org/downloads'> Download driver and set it to environment path </a> </li>\n",
    "</ul>"
   ]
  },
  {
   "cell_type": "code",
   "execution_count": 1,
   "metadata": {},
   "outputs": [],
   "source": [
    "from selenium import webdriver\n",
    "from time import sleep\n",
    "\n",
    "driver = webdriver.Chrome()\n",
    "driver.get(\"https://www.google.com\")\n",
    "sleep(2)"
   ]
  },
  {
   "cell_type": "code",
   "execution_count": 2,
   "metadata": {},
   "outputs": [
    {
     "name": "stdout",
     "output_type": "stream",
     "text": [
      "<html itemscope=\"\" itemtype=\"http://schema.org/SearchResultsPage\" lang=\"zh-TW\"><head><meta content=\"\n"
     ]
    }
   ],
   "source": [
    "search_input = driver.find_element_by_name(\"q\")\n",
    "search_input.send_keys('python is awesome')\n",
    "\n",
    "start_search_btn = driver.find_element_by_name(\"btnK\")\n",
    "start_search_btn.click()\n",
    "sleep(2)\n",
    "\n",
    "htmltext = driver.page_source\n",
    "print(htmltext[:100])"
   ]
  },
  {
   "cell_type": "code",
   "execution_count": 3,
   "metadata": {},
   "outputs": [],
   "source": [
    "driver.close()"
   ]
  },
  {
   "cell_type": "code",
   "execution_count": null,
   "metadata": {},
   "outputs": [],
   "source": []
  },
  {
   "cell_type": "code",
   "execution_count": null,
   "metadata": {},
   "outputs": [],
   "source": []
  }
 ],
 "metadata": {
  "kernelspec": {
   "display_name": "Python 3",
   "language": "python",
   "name": "python3"
  },
  "language_info": {
   "codemirror_mode": {
    "name": "ipython",
    "version": 3
   },
   "file_extension": ".py",
   "mimetype": "text/x-python",
   "name": "python",
   "nbconvert_exporter": "python",
   "pygments_lexer": "ipython3",
   "version": "3.7.7"
  }
 },
 "nbformat": 4,
 "nbformat_minor": 4
}
